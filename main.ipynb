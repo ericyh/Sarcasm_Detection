{
 "cells": [
  {
   "cell_type": "code",
   "execution_count": 2,
   "metadata": {},
   "outputs": [],
   "source": [
    "import tensorflow as tf\n",
    "import numpy as np\n",
    "import pandas as pd\n",
    "from tensorflow.keras.preprocessing.text import Tokenizer\n",
    "from tensorflow.keras.preprocessing.sequence import pad_sequences\n",
    "import matplotlib.pyplot as plt"
   ]
  },
  {
   "cell_type": "code",
   "execution_count": 16,
   "metadata": {},
   "outputs": [
    {
     "name": "stdout",
     "output_type": "stream",
     "text": [
      "26709\n"
     ]
    }
   ],
   "source": [
    "df = pd.read_json('sarcasm.json', lines=True)\n",
    "sentences = np.array(df[\"headline\"])\n",
    "sarcasm = np.array(df[\"is_sarcastic\"])\n",
    "url = np.array(df[\"article_link\"])\n",
    "\n",
    "print(len(sentences))"
   ]
  },
  {
   "cell_type": "code",
   "execution_count": 17,
   "metadata": {},
   "outputs": [],
   "source": [
    "training_size = 23000\n",
    "\n",
    "training_sentences = sentences[:training_size]\n",
    "testing_sentences = sentences[training_size:]\n",
    "training_labels = sarcasm[:training_size]\n",
    "testing_labels = sarcasm[training_size:]"
   ]
  },
  {
   "cell_type": "code",
   "execution_count": 38,
   "metadata": {},
   "outputs": [],
   "source": [
    "vocab_size = 1000\n",
    "tokenizer = Tokenizer(num_words = vocab_size, oov_token = \"<OOV>\")\n",
    "tokenizer.fit_on_texts(training_sentences)\n",
    "word_index = tokenizer.word_index\n",
    "\n",
    "max_length = 30\n",
    "training_sequences = tokenizer.texts_to_sequences(training_sentences)\n",
    "testing_sequences = tokenizer.texts_to_sequences(testing_sentences)\n",
    "training_padded = pad_sequences(training_sequences, padding = \"post\", maxlen = max_length)\n",
    "testing_padded = pad_sequences(testing_sequences, padding = \"post\", maxlen = max_length)"
   ]
  },
  {
   "cell_type": "code",
   "execution_count": 40,
   "metadata": {},
   "outputs": [],
   "source": [
    "model = tf.keras.Sequential([\n",
    "    tf.keras.layers.Embedding(vocab_size, 10, input_length = max_length),\n",
    "    tf.keras.layers.GlobalAveragePooling1D(),\n",
    "    tf.keras.layers.Dense(12, activation = \"relu\"),\n",
    "    tf.keras.layers.Dense(1, activation = \"sigmoid\")\n",
    "])\n",
    "\n",
    "model.compile(loss = \"binary_crossentropy\", optimizer = \"adam\", metrics = [\"accuracy\"])"
   ]
  },
  {
   "cell_type": "code",
   "execution_count": 41,
   "metadata": {},
   "outputs": [
    {
     "name": "stdout",
     "output_type": "stream",
     "text": [
      "Epoch 1/50\n",
      "719/719 [==============================] - 1s 462us/step - loss: 0.5987 - accuracy: 0.6722 - val_loss: 0.4528 - val_accuracy: 0.7946\n",
      "Epoch 2/50\n",
      "719/719 [==============================] - 0s 396us/step - loss: 0.4080 - accuracy: 0.8167 - val_loss: 0.4009 - val_accuracy: 0.8118\n",
      "Epoch 3/50\n",
      "719/719 [==============================] - 0s 416us/step - loss: 0.3747 - accuracy: 0.8300 - val_loss: 0.3928 - val_accuracy: 0.8185\n",
      "Epoch 4/50\n",
      "719/719 [==============================] - 0s 377us/step - loss: 0.3644 - accuracy: 0.8333 - val_loss: 0.3924 - val_accuracy: 0.8148\n",
      "Epoch 5/50\n",
      "719/719 [==============================] - 0s 375us/step - loss: 0.3594 - accuracy: 0.8357 - val_loss: 0.4014 - val_accuracy: 0.8129\n",
      "Epoch 6/50\n",
      "719/719 [==============================] - 0s 375us/step - loss: 0.3569 - accuracy: 0.8367 - val_loss: 0.3971 - val_accuracy: 0.8145\n",
      "Epoch 7/50\n",
      "719/719 [==============================] - 0s 372us/step - loss: 0.3544 - accuracy: 0.8393 - val_loss: 0.4015 - val_accuracy: 0.8132\n",
      "Epoch 8/50\n",
      "719/719 [==============================] - 0s 367us/step - loss: 0.3530 - accuracy: 0.8382 - val_loss: 0.3984 - val_accuracy: 0.8132\n",
      "Epoch 9/50\n",
      "719/719 [==============================] - 0s 373us/step - loss: 0.3525 - accuracy: 0.8392 - val_loss: 0.4002 - val_accuracy: 0.8142\n",
      "Epoch 10/50\n",
      "719/719 [==============================] - 0s 372us/step - loss: 0.3521 - accuracy: 0.8393 - val_loss: 0.4019 - val_accuracy: 0.8142\n",
      "Epoch 11/50\n",
      "719/719 [==============================] - 0s 371us/step - loss: 0.3511 - accuracy: 0.8410 - val_loss: 0.4003 - val_accuracy: 0.8121\n",
      "Epoch 12/50\n",
      "719/719 [==============================] - 0s 372us/step - loss: 0.3502 - accuracy: 0.8410 - val_loss: 0.4042 - val_accuracy: 0.8102\n",
      "Epoch 13/50\n",
      "719/719 [==============================] - 0s 409us/step - loss: 0.3496 - accuracy: 0.8411 - val_loss: 0.4014 - val_accuracy: 0.8123\n",
      "Epoch 14/50\n",
      "719/719 [==============================] - 0s 373us/step - loss: 0.3495 - accuracy: 0.8431 - val_loss: 0.4005 - val_accuracy: 0.8148\n",
      "Epoch 15/50\n",
      "719/719 [==============================] - 0s 372us/step - loss: 0.3482 - accuracy: 0.8420 - val_loss: 0.4033 - val_accuracy: 0.8113\n",
      "Epoch 16/50\n",
      "719/719 [==============================] - 0s 371us/step - loss: 0.3475 - accuracy: 0.8430 - val_loss: 0.4004 - val_accuracy: 0.8123\n",
      "Epoch 17/50\n",
      "719/719 [==============================] - 0s 373us/step - loss: 0.3459 - accuracy: 0.8420 - val_loss: 0.4029 - val_accuracy: 0.8137\n",
      "Epoch 18/50\n",
      "719/719 [==============================] - 0s 409us/step - loss: 0.3450 - accuracy: 0.8427 - val_loss: 0.4018 - val_accuracy: 0.8134\n",
      "Epoch 19/50\n",
      "719/719 [==============================] - 0s 403us/step - loss: 0.3442 - accuracy: 0.8433 - val_loss: 0.3990 - val_accuracy: 0.8153\n",
      "Epoch 20/50\n",
      "719/719 [==============================] - 0s 413us/step - loss: 0.3423 - accuracy: 0.8441 - val_loss: 0.4003 - val_accuracy: 0.8159\n",
      "Epoch 21/50\n",
      "719/719 [==============================] - 0s 374us/step - loss: 0.3403 - accuracy: 0.8455 - val_loss: 0.3986 - val_accuracy: 0.8164\n",
      "Epoch 22/50\n",
      "719/719 [==============================] - 0s 371us/step - loss: 0.3394 - accuracy: 0.8457 - val_loss: 0.3979 - val_accuracy: 0.8180\n",
      "Epoch 23/50\n",
      "719/719 [==============================] - 0s 370us/step - loss: 0.3373 - accuracy: 0.8479 - val_loss: 0.4034 - val_accuracy: 0.8159\n",
      "Epoch 24/50\n",
      "719/719 [==============================] - 0s 378us/step - loss: 0.3363 - accuracy: 0.8482 - val_loss: 0.4001 - val_accuracy: 0.8148\n",
      "Epoch 25/50\n",
      "719/719 [==============================] - 0s 390us/step - loss: 0.3350 - accuracy: 0.8488 - val_loss: 0.3966 - val_accuracy: 0.8212\n",
      "Epoch 26/50\n",
      "719/719 [==============================] - 0s 380us/step - loss: 0.3333 - accuracy: 0.8492 - val_loss: 0.3984 - val_accuracy: 0.8207\n",
      "Epoch 27/50\n",
      "719/719 [==============================] - 0s 373us/step - loss: 0.3320 - accuracy: 0.8504 - val_loss: 0.4003 - val_accuracy: 0.8204\n",
      "Epoch 28/50\n",
      "719/719 [==============================] - 0s 392us/step - loss: 0.3312 - accuracy: 0.8513 - val_loss: 0.4034 - val_accuracy: 0.8145\n",
      "Epoch 29/50\n",
      "719/719 [==============================] - 0s 419us/step - loss: 0.3294 - accuracy: 0.8517 - val_loss: 0.3963 - val_accuracy: 0.8221\n",
      "Epoch 30/50\n",
      "719/719 [==============================] - 0s 378us/step - loss: 0.3280 - accuracy: 0.8513 - val_loss: 0.3987 - val_accuracy: 0.8183\n",
      "Epoch 31/50\n",
      "719/719 [==============================] - 0s 377us/step - loss: 0.3266 - accuracy: 0.8540 - val_loss: 0.3964 - val_accuracy: 0.8218\n",
      "Epoch 32/50\n",
      "719/719 [==============================] - 0s 387us/step - loss: 0.3254 - accuracy: 0.8551 - val_loss: 0.3976 - val_accuracy: 0.8212\n",
      "Epoch 33/50\n",
      "719/719 [==============================] - 0s 384us/step - loss: 0.3243 - accuracy: 0.8561 - val_loss: 0.3989 - val_accuracy: 0.8188\n",
      "Epoch 34/50\n",
      "719/719 [==============================] - 0s 372us/step - loss: 0.3231 - accuracy: 0.8555 - val_loss: 0.3971 - val_accuracy: 0.8215\n",
      "Epoch 35/50\n",
      "719/719 [==============================] - 0s 379us/step - loss: 0.3224 - accuracy: 0.8565 - val_loss: 0.3989 - val_accuracy: 0.8258\n",
      "Epoch 36/50\n",
      "719/719 [==============================] - 0s 373us/step - loss: 0.3208 - accuracy: 0.8571 - val_loss: 0.3992 - val_accuracy: 0.8269\n",
      "Epoch 37/50\n",
      "719/719 [==============================] - 0s 378us/step - loss: 0.3197 - accuracy: 0.8583 - val_loss: 0.3998 - val_accuracy: 0.8204\n",
      "Epoch 38/50\n",
      "719/719 [==============================] - 0s 417us/step - loss: 0.3189 - accuracy: 0.8579 - val_loss: 0.3982 - val_accuracy: 0.8242\n",
      "Epoch 39/50\n",
      "719/719 [==============================] - 0s 383us/step - loss: 0.3177 - accuracy: 0.8592 - val_loss: 0.3993 - val_accuracy: 0.8199\n",
      "Epoch 40/50\n",
      "719/719 [==============================] - 0s 379us/step - loss: 0.3165 - accuracy: 0.8597 - val_loss: 0.4024 - val_accuracy: 0.8194\n",
      "Epoch 41/50\n",
      "719/719 [==============================] - 0s 373us/step - loss: 0.3160 - accuracy: 0.8613 - val_loss: 0.4049 - val_accuracy: 0.8221\n",
      "Epoch 42/50\n",
      "719/719 [==============================] - 0s 373us/step - loss: 0.3150 - accuracy: 0.8621 - val_loss: 0.4006 - val_accuracy: 0.8215\n",
      "Epoch 43/50\n",
      "719/719 [==============================] - 0s 373us/step - loss: 0.3144 - accuracy: 0.8613 - val_loss: 0.4029 - val_accuracy: 0.8175\n",
      "Epoch 44/50\n",
      "719/719 [==============================] - 0s 373us/step - loss: 0.3134 - accuracy: 0.8621 - val_loss: 0.4013 - val_accuracy: 0.8196\n",
      "Epoch 45/50\n",
      "719/719 [==============================] - 0s 371us/step - loss: 0.3127 - accuracy: 0.8641 - val_loss: 0.4021 - val_accuracy: 0.8218\n",
      "Epoch 46/50\n",
      "719/719 [==============================] - 0s 374us/step - loss: 0.3119 - accuracy: 0.8630 - val_loss: 0.4025 - val_accuracy: 0.8212\n",
      "Epoch 47/50\n",
      "719/719 [==============================] - 0s 406us/step - loss: 0.3106 - accuracy: 0.8639 - val_loss: 0.4052 - val_accuracy: 0.8188\n",
      "Epoch 48/50\n",
      "719/719 [==============================] - 0s 374us/step - loss: 0.3099 - accuracy: 0.8625 - val_loss: 0.4060 - val_accuracy: 0.8196\n",
      "Epoch 49/50\n",
      "719/719 [==============================] - 0s 373us/step - loss: 0.3088 - accuracy: 0.8647 - val_loss: 0.4092 - val_accuracy: 0.8199\n",
      "Epoch 50/50\n",
      "719/719 [==============================] - 0s 372us/step - loss: 0.3086 - accuracy: 0.8632 - val_loss: 0.4072 - val_accuracy: 0.8204\n"
     ]
    }
   ],
   "source": [
    "num_epochs = 50\n",
    "history = model.fit(training_padded, training_labels, epochs = num_epochs, validation_data = (testing_padded, testing_labels), verbose = 1)\n"
   ]
  },
  {
   "cell_type": "code",
   "execution_count": 42,
   "metadata": {},
   "outputs": [
    {
     "data": {
      "image/png": "[encoded data removed]",
      "text/plain": [
       "<Figure size 640x480 with 1 Axes>"
      ]
     },
     "metadata": {},
     "output_type": "display_data"
    }
   ],
   "source": [
    "plt.plot(history.history['accuracy'])\n",
    "plt.plot(history.history['val_accuracy'])\n",
    "plt.title('model accuracy')\n",
    "plt.ylabel('accuracy')\n",
    "plt.xlabel('epoch')\n",
    "plt.legend(['train', 'val'], loc='upper left')\n",
    "plt.show()"
   ]
  },
  {
   "cell_type": "code",
   "execution_count": 63,
   "metadata": {},
   "outputs": [
    {
     "name": "stdout",
     "output_type": "stream",
     "text": [
      "[\"one more (feminist) wonder about 'wonder woman': it passes the abuse litmus test\"]\n",
      "[0]\n",
      "1/1 [==============================] - 0s 12ms/step\n",
      "[[0.01496885]]\n"
     ]
    }
   ],
   "source": [
    "x=111\n",
    "print(testing_sentences[x:x+1])\n",
    "print(testing_labels[x:x+1])\n",
    "print(model.predict(testing_padded[x:x+1]))"
   ]
  }
 ],
 "metadata": {
  "kernelspec": {
   "display_name": "base",
   "language": "python",
   "name": "python3"
  },
  "language_info": {
   "codemirror_mode": {
    "name": "ipython",
    "version": 3
   },
   "file_extension": ".py",
   "mimetype": "text/x-python",
   "name": "python",
   "nbconvert_exporter": "python",
   "pygments_lexer": "ipython3",
   "version": "3.11.5"
  }
 },
 "nbformat": 4,
 "nbformat_minor": 2
}
