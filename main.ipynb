{
 "cells": [
  {
   "cell_type": "code",
   "execution_count": 9,
   "metadata": {},
   "outputs": [],
   "source": [
    "import tensorflow as tf\n",
    "import numpy as np\n",
    "import pandas as pd\n",
    "from tensorflow.keras.preprocessing.text import Tokenizer\n",
    "from tensorflow.keras.preprocessing.sequence import pad_sequences\n",
    "import matplotlib.pyplot as plt"
   ]
  },
  {
   "cell_type": "code",
   "execution_count": 10,
   "metadata": {},
   "outputs": [
    {
     "name": "stdout",
     "output_type": "stream",
     "text": [
      "26709\n"
     ]
    }
   ],
   "source": [
    "df = pd.read_json('sarcasm.json', lines=True)\n",
    "sentences = np.array(df[\"headline\"])\n",
    "sarcasm = np.array(df[\"is_sarcastic\"])\n",
    "url = np.array(df[\"article_link\"])\n",
    "\n",
    "print(len(sentences))"
   ]
  },
  {
   "cell_type": "code",
   "execution_count": 11,
   "metadata": {},
   "outputs": [],
   "source": [
    "training_size = 23000\n",
    "\n",
    "training_sentences = sentences[:training_size]\n",
    "testing_sentences = sentences[training_size:]\n",
    "training_labels = sarcasm[:training_size]\n",
    "testing_labels = sarcasm[training_size:]"
   ]
  },
  {
   "cell_type": "code",
   "execution_count": 12,
   "metadata": {},
   "outputs": [],
   "source": [
    "vocab_size = 1000\n",
    "tokenizer = Tokenizer(num_words = vocab_size, oov_token = \"<OOV>\")\n",
    "tokenizer.fit_on_texts(training_sentences)\n",
    "word_index = tokenizer.word_index\n",
    "\n",
    "max_length = 30\n",
    "training_sequences = tokenizer.texts_to_sequences(training_sentences)\n",
    "testing_sequences = tokenizer.texts_to_sequences(testing_sentences)\n",
    "training_padded = pad_sequences(training_sequences, padding = \"post\", maxlen = max_length)\n",
    "testing_padded = pad_sequences(testing_sequences, padding = \"post\", maxlen = max_length)"
   ]
  },
  {
   "cell_type": "code",
   "execution_count": 13,
   "metadata": {},
   "outputs": [],
   "source": [
    "model = tf.keras.Sequential([\n",
    "    tf.keras.layers.Embedding(vocab_size, 10, input_length = max_length),\n",
    "    tf.keras.layers.GlobalAveragePooling1D(),\n",
    "    tf.keras.layers.Dense(12, activation = \"relu\"),\n",
    "    tf.keras.layers.Dense(1, activation = \"sigmoid\")\n",
    "])\n",
    "\n",
    "model.compile(loss = \"binary_crossentropy\", optimizer = \"adam\", metrics = [\"accuracy\"])"
   ]
  },
  {
   "cell_type": "code",
   "execution_count": 14,
   "metadata": {},
   "outputs": [
    {
     "name": "stdout",
     "output_type": "stream",
     "text": [
      "Epoch 1/50\n",
      "719/719 [==============================] - 1s 460us/step - loss: 0.6142 - accuracy: 0.6397 - val_loss: 0.4817 - val_accuracy: 0.7905\n",
      "Epoch 2/50\n",
      "719/719 [==============================] - 0s 397us/step - loss: 0.4234 - accuracy: 0.8151 - val_loss: 0.4050 - val_accuracy: 0.8156\n",
      "Epoch 3/50\n",
      "719/719 [==============================] - 0s 393us/step - loss: 0.3791 - accuracy: 0.8291 - val_loss: 0.4015 - val_accuracy: 0.8123\n",
      "Epoch 4/50\n",
      "719/719 [==============================] - 0s 374us/step - loss: 0.3675 - accuracy: 0.8331 - val_loss: 0.3952 - val_accuracy: 0.8175\n",
      "Epoch 5/50\n",
      "719/719 [==============================] - 0s 392us/step - loss: 0.3617 - accuracy: 0.8362 - val_loss: 0.3974 - val_accuracy: 0.8156\n",
      "Epoch 6/50\n",
      "719/719 [==============================] - 0s 386us/step - loss: 0.3595 - accuracy: 0.8345 - val_loss: 0.3998 - val_accuracy: 0.8167\n",
      "Epoch 7/50\n",
      "719/719 [==============================] - 0s 396us/step - loss: 0.3576 - accuracy: 0.8381 - val_loss: 0.3982 - val_accuracy: 0.8132\n",
      "Epoch 8/50\n",
      "719/719 [==============================] - 0s 457us/step - loss: 0.3561 - accuracy: 0.8386 - val_loss: 0.3995 - val_accuracy: 0.8185\n",
      "Epoch 9/50\n",
      "719/719 [==============================] - 0s 380us/step - loss: 0.3555 - accuracy: 0.8389 - val_loss: 0.4014 - val_accuracy: 0.8169\n",
      "Epoch 10/50\n",
      "719/719 [==============================] - 0s 383us/step - loss: 0.3545 - accuracy: 0.8382 - val_loss: 0.4003 - val_accuracy: 0.8145\n",
      "Epoch 11/50\n",
      "719/719 [==============================] - 0s 391us/step - loss: 0.3544 - accuracy: 0.8382 - val_loss: 0.4011 - val_accuracy: 0.8123\n",
      "Epoch 12/50\n",
      "719/719 [==============================] - 0s 382us/step - loss: 0.3538 - accuracy: 0.8372 - val_loss: 0.4029 - val_accuracy: 0.8121\n",
      "Epoch 13/50\n",
      "719/719 [==============================] - 0s 378us/step - loss: 0.3536 - accuracy: 0.8386 - val_loss: 0.4019 - val_accuracy: 0.8159\n",
      "Epoch 14/50\n",
      "719/719 [==============================] - 0s 381us/step - loss: 0.3532 - accuracy: 0.8396 - val_loss: 0.4043 - val_accuracy: 0.8150\n",
      "Epoch 15/50\n",
      "719/719 [==============================] - 0s 427us/step - loss: 0.3522 - accuracy: 0.8402 - val_loss: 0.4012 - val_accuracy: 0.8167\n",
      "Epoch 16/50\n",
      "719/719 [==============================] - 0s 378us/step - loss: 0.3524 - accuracy: 0.8390 - val_loss: 0.4009 - val_accuracy: 0.8164\n",
      "Epoch 17/50\n",
      "719/719 [==============================] - 0s 377us/step - loss: 0.3515 - accuracy: 0.8396 - val_loss: 0.4023 - val_accuracy: 0.8156\n",
      "Epoch 18/50\n",
      "719/719 [==============================] - 0s 377us/step - loss: 0.3510 - accuracy: 0.8397 - val_loss: 0.4041 - val_accuracy: 0.8110\n",
      "Epoch 19/50\n",
      "719/719 [==============================] - 0s 373us/step - loss: 0.3505 - accuracy: 0.8381 - val_loss: 0.4017 - val_accuracy: 0.8156\n",
      "Epoch 20/50\n",
      "719/719 [==============================] - 0s 376us/step - loss: 0.3491 - accuracy: 0.8415 - val_loss: 0.4007 - val_accuracy: 0.8167\n",
      "Epoch 21/50\n",
      "719/719 [==============================] - 0s 378us/step - loss: 0.3471 - accuracy: 0.8410 - val_loss: 0.3981 - val_accuracy: 0.8161\n",
      "Epoch 22/50\n",
      "719/719 [==============================] - 0s 376us/step - loss: 0.3449 - accuracy: 0.8432 - val_loss: 0.3995 - val_accuracy: 0.8129\n",
      "Epoch 23/50\n",
      "719/719 [==============================] - 0s 377us/step - loss: 0.3430 - accuracy: 0.8433 - val_loss: 0.3952 - val_accuracy: 0.8175\n",
      "Epoch 24/50\n",
      "719/719 [==============================] - 0s 378us/step - loss: 0.3401 - accuracy: 0.8451 - val_loss: 0.3974 - val_accuracy: 0.8191\n",
      "Epoch 25/50\n",
      "719/719 [==============================] - 0s 426us/step - loss: 0.3377 - accuracy: 0.8467 - val_loss: 0.3963 - val_accuracy: 0.8194\n",
      "Epoch 26/50\n",
      "719/719 [==============================] - 0s 395us/step - loss: 0.3357 - accuracy: 0.8494 - val_loss: 0.3950 - val_accuracy: 0.8196\n",
      "Epoch 27/50\n",
      "719/719 [==============================] - 0s 379us/step - loss: 0.3333 - accuracy: 0.8506 - val_loss: 0.3960 - val_accuracy: 0.8229\n",
      "Epoch 28/50\n",
      "719/719 [==============================] - 0s 377us/step - loss: 0.3310 - accuracy: 0.8511 - val_loss: 0.4062 - val_accuracy: 0.8148\n",
      "Epoch 29/50\n",
      "719/719 [==============================] - 0s 378us/step - loss: 0.3296 - accuracy: 0.8518 - val_loss: 0.3933 - val_accuracy: 0.8261\n",
      "Epoch 30/50\n",
      "719/719 [==============================] - 0s 377us/step - loss: 0.3276 - accuracy: 0.8528 - val_loss: 0.3978 - val_accuracy: 0.8221\n",
      "Epoch 31/50\n",
      "719/719 [==============================] - 0s 377us/step - loss: 0.3256 - accuracy: 0.8532 - val_loss: 0.3996 - val_accuracy: 0.8183\n",
      "Epoch 32/50\n",
      "719/719 [==============================] - 0s 378us/step - loss: 0.3245 - accuracy: 0.8553 - val_loss: 0.3953 - val_accuracy: 0.8258\n",
      "Epoch 33/50\n",
      "719/719 [==============================] - 0s 377us/step - loss: 0.3224 - accuracy: 0.8580 - val_loss: 0.3945 - val_accuracy: 0.8272\n",
      "Epoch 34/50\n",
      "719/719 [==============================] - 0s 377us/step - loss: 0.3216 - accuracy: 0.8568 - val_loss: 0.3964 - val_accuracy: 0.8229\n",
      "Epoch 35/50\n",
      "719/719 [==============================] - 0s 428us/step - loss: 0.3205 - accuracy: 0.8575 - val_loss: 0.3995 - val_accuracy: 0.8237\n",
      "Epoch 36/50\n",
      "719/719 [==============================] - 0s 375us/step - loss: 0.3187 - accuracy: 0.8596 - val_loss: 0.3984 - val_accuracy: 0.8245\n",
      "Epoch 37/50\n",
      "719/719 [==============================] - 0s 377us/step - loss: 0.3182 - accuracy: 0.8583 - val_loss: 0.3990 - val_accuracy: 0.8237\n",
      "Epoch 38/50\n",
      "719/719 [==============================] - 0s 378us/step - loss: 0.3169 - accuracy: 0.8597 - val_loss: 0.4034 - val_accuracy: 0.8218\n",
      "Epoch 39/50\n",
      "719/719 [==============================] - 0s 377us/step - loss: 0.3159 - accuracy: 0.8606 - val_loss: 0.4013 - val_accuracy: 0.8223\n",
      "Epoch 40/50\n",
      "719/719 [==============================] - 0s 376us/step - loss: 0.3151 - accuracy: 0.8592 - val_loss: 0.4040 - val_accuracy: 0.8212\n",
      "Epoch 41/50\n",
      "719/719 [==============================] - 0s 377us/step - loss: 0.3141 - accuracy: 0.8611 - val_loss: 0.4061 - val_accuracy: 0.8226\n",
      "Epoch 42/50\n",
      "719/719 [==============================] - 0s 377us/step - loss: 0.3131 - accuracy: 0.8607 - val_loss: 0.4064 - val_accuracy: 0.8231\n",
      "Epoch 43/50\n",
      "719/719 [==============================] - 0s 440us/step - loss: 0.3127 - accuracy: 0.8619 - val_loss: 0.4168 - val_accuracy: 0.8177\n",
      "Epoch 44/50\n",
      "719/719 [==============================] - 0s 376us/step - loss: 0.3114 - accuracy: 0.8616 - val_loss: 0.4061 - val_accuracy: 0.8223\n",
      "Epoch 45/50\n",
      "719/719 [==============================] - 0s 377us/step - loss: 0.3112 - accuracy: 0.8627 - val_loss: 0.4075 - val_accuracy: 0.8218\n",
      "Epoch 46/50\n",
      "719/719 [==============================] - 0s 378us/step - loss: 0.3104 - accuracy: 0.8631 - val_loss: 0.4075 - val_accuracy: 0.8210\n",
      "Epoch 47/50\n",
      "719/719 [==============================] - 0s 378us/step - loss: 0.3096 - accuracy: 0.8642 - val_loss: 0.4085 - val_accuracy: 0.8204\n",
      "Epoch 48/50\n",
      "719/719 [==============================] - 0s 377us/step - loss: 0.3092 - accuracy: 0.8628 - val_loss: 0.4115 - val_accuracy: 0.8169\n",
      "Epoch 49/50\n",
      "719/719 [==============================] - 0s 375us/step - loss: 0.3088 - accuracy: 0.8627 - val_loss: 0.4137 - val_accuracy: 0.8169\n",
      "Epoch 50/50\n",
      "719/719 [==============================] - 0s 379us/step - loss: 0.3084 - accuracy: 0.8636 - val_loss: 0.4126 - val_accuracy: 0.8167\n"
     ]
    }
   ],
   "source": [
    "num_epochs = 50\n",
    "history = model.fit(training_padded, training_labels, epochs = num_epochs, validation_data = (testing_padded, testing_labels), verbose = 1)\n"
   ]
  },
  {
   "cell_type": "code",
   "execution_count": 17,
   "metadata": {},
   "outputs": [
    {
     "data": {
      "image/png": "[encoded data removed]",
      "text/plain": [
       "<Figure size 640x480 with 1 Axes>"
      ]
     },
     "metadata": {},
     "output_type": "display_data"
    }
   ],
   "source": [
    "plt.plot(history.history['accuracy'])\n",
    "plt.plot(history.history['val_accuracy'])\n",
    "plt.title('model accuracy')\n",
    "plt.ylabel('accuracy')\n",
    "plt.xlabel('epoch')\n",
    "plt.legend(['train', 'val'], loc='upper left')\n",
    "plt.show()"
   ]
  },
  {
   "cell_type": "code",
   "execution_count": 18,
   "metadata": {},
   "outputs": [
    {
     "name": "stdout",
     "output_type": "stream",
     "text": [
      "[\"one more (feminist) wonder about 'wonder woman': it passes the abuse litmus test\"]\n",
      "[0]\n",
      "1/1 [==============================] - 0s 11ms/step\n",
      "[[0.00930649]]\n"
     ]
    }
   ],
   "source": [
    "x=111\n",
    "print(testing_sentences[x:x+1])\n",
    "print(testing_labels[x:x+1])\n",
    "print(model.predict(testing_padded[x:x+1]))"
   ]
  }
 ],
 "metadata": {
  "kernelspec": {
   "display_name": "base",
   "language": "python",
   "name": "python3"
  },
  "language_info": {
   "codemirror_mode": {
    "name": "ipython",
    "version": 3
   },
   "file_extension": ".py",
   "mimetype": "text/x-python",
   "name": "python",
   "nbconvert_exporter": "python",
   "pygments_lexer": "ipython3",
   "version": "3.11.5"
  }
 },
 "nbformat": 4,
 "nbformat_minor": 2
}
