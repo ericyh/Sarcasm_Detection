{
 "cells": [
  {
   "cell_type": "code",
   "execution_count": 2,
   "metadata": {},
   "outputs": [],
   "source": [
    "import tensorflow as tf\n",
    "import numpy as np\n",
    "import pandas as pd\n",
    "from tensorflow.keras.preprocessing.text import Tokenizer\n",
    "from tensorflow.keras.preprocessing.sequence import pad_sequences\n",
    "import matplotlib.pyplot as plt"
   ]
  },
  {
   "cell_type": "code",
   "execution_count": 3,
   "metadata": {},
   "outputs": [
    {
     "name": "stdout",
     "output_type": "stream",
     "text": [
      "26709\n"
     ]
    }
   ],
   "source": [
    "df = pd.read_json('sarcasm.json', lines=True)\n",
    "sentences = np.array(df[\"headline\"])\n",
    "sarcasm = np.array(df[\"is_sarcastic\"])\n",
    "url = np.array(df[\"article_link\"])\n",
    "\n",
    "print(len(sentences))"
   ]
  },
  {
   "cell_type": "code",
   "execution_count": 4,
   "metadata": {},
   "outputs": [],
   "source": [
    "training_size = 20000\n",
    "\n",
    "training_sentences = sentences[:training_size]\n",
    "testing_sentences = sentences[training_size:]\n",
    "training_labels = sarcasm[:training_size]\n",
    "testing_labels = sarcasm[training_size:]"
   ]
  },
  {
   "cell_type": "code",
   "execution_count": 5,
   "metadata": {},
   "outputs": [],
   "source": [
    "vocab_size = 3000\n",
    "tokenizer = Tokenizer(num_words = vocab_size, oov_token = \"<OOV>\")\n",
    "tokenizer.fit_on_texts(training_sentences)\n",
    "word_index = tokenizer.word_index\n",
    "\n",
    "max_length = 100\n",
    "training_sequences = tokenizer.texts_to_sequences(training_sentences)\n",
    "testing_sequences = tokenizer.texts_to_sequences(testing_sentences)\n",
    "training_padded = pad_sequences(training_sequences, padding = \"post\", maxlen = max_length)\n",
    "testing_padded = pad_sequences(testing_sequences, padding = \"post\", maxlen = max_length)"
   ]
  },
  {
   "cell_type": "code",
   "execution_count": 6,
   "metadata": {},
   "outputs": [],
   "source": [
    "model = tf.keras.Sequential([\n",
    "    tf.keras.layers.Embedding(vocab_size, 30, input_length = max_length),\n",
    "    tf.keras.layers.GlobalAveragePooling1D(),\n",
    "    tf.keras.layers.Dense(24, activation = \"relu\"),\n",
    "    tf.keras.layers.Dense(1, activation = \"sigmoid\")\n",
    "])\n",
    "\n",
    "model.compile(loss = \"binary_crossentropy\", optimizer = \"adam\", metrics = [\"accuracy\"])"
   ]
  },
  {
   "cell_type": "code",
   "execution_count": 8,
   "metadata": {},
   "outputs": [
    {
     "name": "stdout",
     "output_type": "stream",
     "text": [
      "Epoch 1/20\n",
      "625/625 [==============================] - 1s 862us/step - loss: 0.2526 - accuracy: 0.8931 - val_loss: 0.3922 - val_accuracy: 0.8328\n",
      "Epoch 2/20\n",
      "625/625 [==============================] - 1s 808us/step - loss: 0.2490 - accuracy: 0.8959 - val_loss: 0.4104 - val_accuracy: 0.8289\n",
      "Epoch 3/20\n",
      "625/625 [==============================] - 1s 846us/step - loss: 0.2493 - accuracy: 0.8959 - val_loss: 0.4047 - val_accuracy: 0.8301\n",
      "Epoch 4/20\n",
      "625/625 [==============================] - 1s 830us/step - loss: 0.2455 - accuracy: 0.8974 - val_loss: 0.4018 - val_accuracy: 0.8326\n",
      "Epoch 5/20\n",
      "625/625 [==============================] - 1s 826us/step - loss: 0.2429 - accuracy: 0.8981 - val_loss: 0.4163 - val_accuracy: 0.8275\n",
      "Epoch 6/20\n",
      "625/625 [==============================] - 1s 847us/step - loss: 0.2409 - accuracy: 0.8982 - val_loss: 0.4147 - val_accuracy: 0.8304\n",
      "Epoch 7/20\n",
      "625/625 [==============================] - 1s 840us/step - loss: 0.2386 - accuracy: 0.8999 - val_loss: 0.4143 - val_accuracy: 0.8302\n",
      "Epoch 8/20\n",
      "625/625 [==============================] - 1s 835us/step - loss: 0.2373 - accuracy: 0.9000 - val_loss: 0.4190 - val_accuracy: 0.8316\n",
      "Epoch 9/20\n",
      "625/625 [==============================] - 1s 808us/step - loss: 0.2354 - accuracy: 0.9024 - val_loss: 0.4223 - val_accuracy: 0.8310\n",
      "Epoch 10/20\n",
      "625/625 [==============================] - 1s 875us/step - loss: 0.2345 - accuracy: 0.9018 - val_loss: 0.4257 - val_accuracy: 0.8305\n",
      "Epoch 11/20\n",
      "625/625 [==============================] - 1s 846us/step - loss: 0.2344 - accuracy: 0.9019 - val_loss: 0.4344 - val_accuracy: 0.8284\n",
      "Epoch 12/20\n",
      "625/625 [==============================] - 1s 856us/step - loss: 0.2325 - accuracy: 0.9039 - val_loss: 0.4328 - val_accuracy: 0.8298\n",
      "Epoch 13/20\n",
      "625/625 [==============================] - 1s 843us/step - loss: 0.2330 - accuracy: 0.9029 - val_loss: 0.4326 - val_accuracy: 0.8290\n",
      "Epoch 14/20\n",
      "625/625 [==============================] - 1s 800us/step - loss: 0.2325 - accuracy: 0.9033 - val_loss: 0.4342 - val_accuracy: 0.8305\n",
      "Epoch 15/20\n",
      "625/625 [==============================] - 0s 796us/step - loss: 0.2301 - accuracy: 0.9050 - val_loss: 0.4393 - val_accuracy: 0.8293\n",
      "Epoch 16/20\n",
      "625/625 [==============================] - 1s 847us/step - loss: 0.2300 - accuracy: 0.9046 - val_loss: 0.4399 - val_accuracy: 0.8298\n",
      "Epoch 17/20\n",
      "625/625 [==============================] - 1s 810us/step - loss: 0.2300 - accuracy: 0.9050 - val_loss: 0.4410 - val_accuracy: 0.8286\n",
      "Epoch 18/20\n",
      "625/625 [==============================] - 1s 819us/step - loss: 0.2303 - accuracy: 0.9050 - val_loss: 0.4478 - val_accuracy: 0.8250\n",
      "Epoch 19/20\n",
      "625/625 [==============================] - 1s 806us/step - loss: 0.2292 - accuracy: 0.9044 - val_loss: 0.4487 - val_accuracy: 0.8252\n",
      "Epoch 20/20\n",
      "625/625 [==============================] - 1s 810us/step - loss: 0.2273 - accuracy: 0.9070 - val_loss: 0.4476 - val_accuracy: 0.8262\n"
     ]
    }
   ],
   "source": [
    "num_epochs = 20\n",
    "history = model.fit(training_padded, training_labels, epochs = num_epochs, validation_data = (testing_padded, testing_labels), verbose = 1)\n"
   ]
  },
  {
   "cell_type": "code",
   "execution_count": 9,
   "metadata": {},
   "outputs": [
    {
     "data": {
      "image/png": "[encoded data removed]",
      "text/plain": [
       "<Figure size 640x480 with 1 Axes>"
      ]
     },
     "metadata": {},
     "output_type": "display_data"
    }
   ],
   "source": [
    "plt.plot(history.history['accuracy'])\n",
    "plt.plot(history.history['val_accuracy'])\n",
    "plt.title('model accuracy')\n",
    "plt.ylabel('accuracy')\n",
    "plt.xlabel('epoch')\n",
    "plt.legend(['train', 'val'], loc='upper left')\n",
    "plt.show()"
   ]
  }
 ],
 "metadata": {
  "kernelspec": {
   "display_name": "base",
   "language": "python",
   "name": "python3"
  },
  "language_info": {
   "codemirror_mode": {
    "name": "ipython",
    "version": 3
   },
   "file_extension": ".py",
   "mimetype": "text/x-python",
   "name": "python",
   "nbconvert_exporter": "python",
   "pygments_lexer": "ipython3",
   "version": "3.11.5"
  }
 },
 "nbformat": 4,
 "nbformat_minor": 2
}
